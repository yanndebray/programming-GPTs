{
 "cells": [
  {
   "cell_type": "markdown",
   "metadata": {},
   "source": [
    "# Agents and Tools"
   ]
  },
  {
   "cell_type": "code",
   "execution_count": 1,
   "metadata": {},
   "outputs": [],
   "source": [
    "import tomli, os\n",
    "with open(\"../.streamlit/secrets.toml\",\"rb\") as f:\n",
    "    secrets = tomli.load(f)\n",
    "os.environ[\"OPENAI_API_KEY\"] = secrets[\"OPENAI_API_KEY\"]\n",
    "os.environ[\"SERPAPI_API_KEY\"] = secrets[\"SERPAPI_API_KEY\"]"
   ]
  },
  {
   "cell_type": "markdown",
   "metadata": {},
   "source": [
    "## Smith: Simple mini independent tool handler"
   ]
  },
  {
   "cell_type": "code",
   "execution_count": 4,
   "metadata": {},
   "outputs": [
    {
     "data": {
      "text/plain": [
       "<module 'smith' from 'c:\\\\Users\\\\ydebray\\\\Downloads\\\\gpt-programming-book\\\\chap5\\\\smith.py'>"
      ]
     },
     "execution_count": 4,
     "metadata": {},
     "output_type": "execute_result"
    }
   ],
   "source": [
    "import importlib\n",
    "smith = importlib.import_module('smith')\n",
    "importlib.reload(smith)"
   ]
  },
  {
   "cell_type": "code",
   "execution_count": 5,
   "metadata": {},
   "outputs": [],
   "source": [
    "from smith import *"
   ]
  },
  {
   "cell_type": "code",
   "execution_count": 9,
   "metadata": {},
   "outputs": [
    {
     "name": "stdout",
     "output_type": "stream",
     "text": [
      "As of September 2021, the CEO of Twitter is Jack Dorsey.\n"
     ]
    }
   ],
   "source": [
    "prompt = 'Who is the CEO of Twitter?'\n",
    "print(agent(prompt)) # Calling agent without passing tools"
   ]
  },
  {
   "cell_type": "code",
   "execution_count": 68,
   "metadata": {},
   "outputs": [
    {
     "data": {
      "text/plain": [
       "[{'name': 'search',\n",
       "  'desc': 'Useful for when you need to answer questions about current events.',\n",
       "  'example': 'What movie won best picture in 2023?'},\n",
       " {'name': 'python',\n",
       "  'desc': 'Useful for when performing computing and trying to solve mathematical problems',\n",
       "  'example': 'What is the 10th element of the Fibonacci suite'}]"
      ]
     },
     "execution_count": 68,
     "metadata": {},
     "output_type": "execute_result"
    }
   ],
   "source": [
    "tools = load_tools()\n",
    "tools"
   ]
  },
  {
   "cell_type": "code",
   "execution_count": 69,
   "metadata": {},
   "outputs": [
    {
     "name": "stdout",
     "output_type": "stream",
     "text": [
      "tool: search\n",
      "------------------\n",
      "The CEO of Twitter is Linda Yaccarino, as reported by The Verge.\n"
     ]
    }
   ],
   "source": [
    "prompt = 'Who is the CEO of Twitter?'\n",
    "res = agent(prompt,tools=tools)\n",
    "print(res)"
   ]
  },
  {
   "cell_type": "markdown",
   "metadata": {},
   "source": [
    "Breaking down the tool choice and execution."
   ]
  },
  {
   "cell_type": "code",
   "execution_count": 70,
   "metadata": {},
   "outputs": [
    {
     "data": {
      "text/plain": [
       "'search'"
      ]
     },
     "execution_count": 70,
     "metadata": {},
     "output_type": "execute_result"
    }
   ],
   "source": [
    "prompt = 'What movie won best picture in 2024?'\n",
    "pick_tool(prompt,tools)"
   ]
  },
  {
   "cell_type": "code",
   "execution_count": 71,
   "metadata": {},
   "outputs": [
    {
     "name": "stdout",
     "output_type": "stream",
     "text": [
      "Answer the user request given the following information retrieved from an internet search:\n",
      "  Oppenheimer\n",
      "  \n"
     ]
    }
   ],
   "source": [
    "res = search_tool(prompt)\n",
    "print(res)"
   ]
  },
  {
   "cell_type": "code",
   "execution_count": 72,
   "metadata": {},
   "outputs": [
    {
     "name": "stdout",
     "output_type": "stream",
     "text": [
      "tool: python\n",
      "------------------\n",
      "import math\n",
      "\n",
      "result = math.sqrt(42)\n",
      "print(result)\n"
     ]
    }
   ],
   "source": [
    "prompt = 'What is the square root of 42?'\n",
    "# res = pick_tool(prompt,tools)\n",
    "res = agent(prompt,tools=tools)\n",
    "print(res)"
   ]
  },
  {
   "cell_type": "markdown",
   "metadata": {},
   "source": [
    "## LangChain agents"
   ]
  },
  {
   "cell_type": "code",
   "execution_count": 59,
   "metadata": {},
   "outputs": [
    {
     "name": "stdout",
     "output_type": "stream",
     "text": [
      "\n",
      "\n",
      "\u001b[1m> Entering new AgentExecutor chain...\u001b[0m\n",
      "\u001b[32;1m\u001b[1;3mI should search for the current CEO of Twitter.\n",
      "Action: Search\n",
      "Action Input: \"current CEO of Twitter\"\u001b[0m\n",
      "Observation: \u001b[36;1m\u001b[1;3mLinda Yaccarino\u001b[0m\n",
      "Thought:\u001b[32;1m\u001b[1;3mThat doesn't seem right, I should search again.\n",
      "Action: Search\n",
      "Action Input: \"current CEO of Twitter 2021\"\u001b[0m\n",
      "Observation: \u001b[36;1m\u001b[1;3mParag Agrawal\u001b[0m\n",
      "Thought:\u001b[32;1m\u001b[1;3mParag Agrawal is the current CEO of Twitter.\n",
      "Final Answer: Parag Agrawal\u001b[0m\n",
      "\n",
      "\u001b[1m> Finished chain.\u001b[0m\n"
     ]
    },
    {
     "data": {
      "text/plain": [
       "'Parag Agrawal'"
      ]
     },
     "execution_count": 59,
     "metadata": {},
     "output_type": "execute_result"
    }
   ],
   "source": [
    "from langchain.agents import load_tools, initialize_agent, AgentType\n",
    "from langchain_openai import ChatOpenAI\n",
    "# Load the model\n",
    "llm = ChatOpenAI(temperature=0)\n",
    "# Load in some tools to use\n",
    "tools = load_tools([\"serpapi\"])\n",
    "# Finally, let's initialize an agent with:\n",
    "# 1. The tools\n",
    "# 2. The language model\n",
    "# 3. The type of agent we want to use.\n",
    "\n",
    "agent = initialize_agent(tools, llm, agent=\"zero-shot-react-description\", verbose=True)\n",
    "# Now let's test it out!\n",
    "agent.run(\"who is the ceo of twitter?\")"
   ]
  },
  {
   "cell_type": "markdown",
   "metadata": {},
   "source": [
    "It seems like the agent is getting the date wrong.\n",
    "Let's create our own tool to handle the date."
   ]
  },
  {
   "cell_type": "code",
   "execution_count": 57,
   "metadata": {},
   "outputs": [],
   "source": [
    "from langchain.agents import tool\n",
    "from datetime import date"
   ]
  },
  {
   "cell_type": "code",
   "execution_count": 58,
   "metadata": {},
   "outputs": [],
   "source": [
    "# Define a tool that returns the current date\n",
    "@tool\n",
    "def time(text: str) -> str:\n",
    "    \"\"\"Returns todays date, use this for any \\\n",
    "    questions related to knowing todays date. \\\n",
    "    The input should always be an empty string, \\\n",
    "    and this function will always return todays \\\n",
    "    date - any date mathmatics should occur \\\n",
    "    outside this function.\"\"\"\n",
    "    return str(date.today())"
   ]
  },
  {
   "cell_type": "code",
   "execution_count": 60,
   "metadata": {},
   "outputs": [],
   "source": [
    "agent= initialize_agent(\n",
    "    tools + [time], \n",
    "    llm, \n",
    "    agent=AgentType.CHAT_ZERO_SHOT_REACT_DESCRIPTION,\n",
    "    handle_parsing_errors=True,\n",
    "    verbose = True)"
   ]
  },
  {
   "cell_type": "code",
   "execution_count": 61,
   "metadata": {},
   "outputs": [
    {
     "name": "stderr",
     "output_type": "stream",
     "text": [
      "c:\\Users\\ydebray\\Downloads\\gpt-programming-book\\env\\lib\\site-packages\\langchain_core\\_api\\deprecation.py:119: LangChainDeprecationWarning: The method `Chain.__call__` was deprecated in langchain 0.1.0 and will be removed in 0.2.0. Use invoke instead.\n",
      "  warn_deprecated(\n"
     ]
    },
    {
     "name": "stdout",
     "output_type": "stream",
     "text": [
      "\n",
      "\n",
      "\u001b[1m> Entering new AgentExecutor chain...\u001b[0m\n",
      "\u001b[32;1m\u001b[1;3mThought: I should use the `time` tool to find out today's date.\n",
      "\n",
      "Action:\n",
      "```\n",
      "{\n",
      "  \"action\": \"time\",\n",
      "  \"action_input\": \"\"\n",
      "}\n",
      "```\n",
      "\n",
      "\u001b[0m\n",
      "Observation: \u001b[33;1m\u001b[1;3m2024-05-04\u001b[0m\n",
      "Thought:\u001b[32;1m\u001b[1;3mFinal Answer: 2024-05-04\u001b[0m\n",
      "\n",
      "\u001b[1m> Finished chain.\u001b[0m\n"
     ]
    }
   ],
   "source": [
    "try:\n",
    "    result = agent(\"whats the date today?\") \n",
    "except: \n",
    "    print(\"exception on external access\")"
   ]
  },
  {
   "cell_type": "code",
   "execution_count": 65,
   "metadata": {},
   "outputs": [
    {
     "name": "stdout",
     "output_type": "stream",
     "text": [
      "\n",
      "\n",
      "\u001b[1m> Entering new AgentExecutor chain...\u001b[0m\n",
      "\u001b[32;1m\u001b[1;3mThought: Let's first find out today's date and then search for the current CEO of Twitter. \n",
      "\n",
      "Action:\n",
      "```\n",
      "{\n",
      "  \"action\": \"time\",\n",
      "  \"action_input\": \"\"\n",
      "}\n",
      "```\u001b[0m\n",
      "Observation: \u001b[33;1m\u001b[1;3m2024-05-04\u001b[0m\n",
      "Thought:\u001b[32;1m\u001b[1;3mNow that we have today's date, let's search for the current CEO of Twitter. \n",
      "\n",
      "Action:\n",
      "```\n",
      "{\n",
      "  \"action\": \"Search\",\n",
      "  \"action_input\": \"current CEO of Twitter 2024\"\n",
      "}\n",
      "```\u001b[0m\n",
      "Observation: \u001b[36;1m\u001b[1;3mLinda Yaccarino\u001b[0m\n",
      "Thought:\u001b[32;1m\u001b[1;3mFinal Answer: Linda Yaccarino\u001b[0m\n",
      "\n",
      "\u001b[1m> Finished chain.\u001b[0m\n"
     ]
    },
    {
     "data": {
      "text/plain": [
       "{'input': 'As of today, who is the CEO of twitter? (First get the date and then ask the question.)',\n",
       " 'output': 'Linda Yaccarino'}"
      ]
     },
     "execution_count": 65,
     "metadata": {},
     "output_type": "execute_result"
    }
   ],
   "source": [
    "agent(\"who is the CEO of twitter today? (First get the date and then answer)\")"
   ]
  },
  {
   "cell_type": "markdown",
   "metadata": {},
   "source": [
    "Another tool for search: DuckDuckGo\n",
    "\n",
    "`pip install duckduckgo_search`"
   ]
  },
  {
   "cell_type": "code",
   "execution_count": 7,
   "metadata": {},
   "outputs": [
    {
     "data": {
      "text/plain": [
       "'Twitter framed a copy of one of her motivational tweets about \"wearing 4 inch heels\" while working as an executive and hung it in a dining common area in the San Francisco office. She has also ... FILE - Twitter CEO Elon Musk, center, speaks with Linda Yaccarino, chairman of global advertising and partnerships for NBC, at the POSSIBLE marketing conference, Tuesday, April 18, 2023, in Miami Beach, Fla. Musk announced Friday, May 12, 2023, that he\\'s hiring Yaccarino to be the new CEO of San Francisco-based Twitter, which is now called X Corp. (AP Photo/Rebecca Blackwell, File) Updated on: May 15, 2023 / 9:49 AM EDT / MoneyWatch. Elon Musk has tapped Linda Yaccarino, until this week the head of advertising at NBCUniversal, to replace him as CEO of Twitter, he announced ... David Becker/Getty Images. Jack Dorsey cofounded Twitter in 2006 and the company made him a billionaire. He stepped down as Twitter CEO in 2021 and supported Elon Musk\\'s takeover of the company ... Jack Dorsey is the cofounder of Twitter and Block (formerly Square), and was the CEO of both companies until 2021. He is also a philanthropist who has given away billions of dollars to various causes, and a self-made billionaire who dropped out of college twice.'"
      ]
     },
     "execution_count": 7,
     "metadata": {},
     "output_type": "execute_result"
    },
    {
     "name": "stderr",
     "output_type": "stream",
     "text": [
      "c:\\Users\\ydebray\\Downloads\\gpt-programming-book\\env\\lib\\site-packages\\curl_cffi\\aio.py:204: UserWarning: Curlm alread closed! quitting from process_data\n",
      "  warnings.warn(\"Curlm alread closed! quitting from process_data\")\n"
     ]
    }
   ],
   "source": [
    "from langchain_community.tools import DuckDuckGoSearchRun\n",
    "search = DuckDuckGoSearchRun()\n",
    "res = search.run(\"CEO of Twitter\")"
   ]
  },
  {
   "cell_type": "markdown",
   "metadata": {},
   "source": [
    "## OpenAI Functions"
   ]
  },
  {
   "cell_type": "markdown",
   "metadata": {},
   "source": [
    "- [OpenAI Blog function calling](https://openai.com/blog/function-calling-and-other-api-updates)\n",
    "- [OpenAI Doc function calling](https://platform.openai.com/docs/guides/gpt/function-calling)\n",
    "- [How_to_call_functions_with_chat_models.ipynb](https://github.com/openai/openai-cookbook/blob/main/examples/How_to_call_functions_with_chat_models.ipynb)\n",
    "- [How_to_call_functions_for_knowledge_retrieval.ipynb](https://github.com/openai/openai-cookbook/blob/0d1436b8d9b858c220d708a446a09eef54be61b0/examples/How_to_call_functions_for_knowledge_retrieval.ipynb)"
   ]
  },
  {
   "cell_type": "code",
   "execution_count": 29,
   "metadata": {},
   "outputs": [],
   "source": [
    "import tomli, openai, json\n",
    "with open('../.streamlit/secrets.toml','rb') as f:\n",
    "    toml_dict = tomli.load(f)\n",
    "openai.api_key = toml_dict['OPENAI_API_KEY']"
   ]
  },
  {
   "cell_type": "code",
   "execution_count": 10,
   "metadata": {},
   "outputs": [],
   "source": [
    "# Example dummy function hard coded to return the same weather\n",
    "# In production, this could be your backend API or an external API\n",
    "def get_current_weather(location, unit=\"fahrenheit\"):\n",
    "    \"\"\"Get the current weather in a given location\"\"\"\n",
    "    weather_info = {\n",
    "        \"location\": location,\n",
    "        \"temperature\": \"72\",\n",
    "        \"unit\": unit,\n",
    "        \"forecast\": [\"sunny\", \"windy\"],\n",
    "    }\n",
    "    return json.dumps(weather_info)"
   ]
  },
  {
   "cell_type": "code",
   "execution_count": 48,
   "metadata": {},
   "outputs": [
    {
     "data": {
      "text/plain": [
       "['get_current_weather.json']"
      ]
     },
     "execution_count": 48,
     "metadata": {},
     "output_type": "execute_result"
    }
   ],
   "source": [
    "import os\n",
    "functions_list = os.listdir(\"functions\")\n",
    "functions_list"
   ]
  },
  {
   "cell_type": "code",
   "execution_count": 53,
   "metadata": {},
   "outputs": [
    {
     "data": {
      "text/plain": [
       "[{'name': 'get_current_weather',\n",
       "  'description': 'Get the current weather in a given location',\n",
       "  'parameters': {'type': 'object',\n",
       "   'properties': {'location': {'type': 'string',\n",
       "     'description': 'The city and state, e.g. San Francisco, CA'},\n",
       "    'unit': {'type': 'string', 'enum': ['celsius', 'fahrenheit']}},\n",
       "   'required': ['location']}}]"
      ]
     },
     "execution_count": 53,
     "metadata": {},
     "output_type": "execute_result"
    }
   ],
   "source": [
    "functions = []\n",
    "with open(\"functions/get_current_weather.json\", \"r\") as f:\n",
    "    functions.append(json.loads(f.read()))\n",
    "functions"
   ]
  },
  {
   "cell_type": "code",
   "execution_count": 54,
   "metadata": {},
   "outputs": [
    {
     "data": {
      "text/plain": [
       "{'content': None,\n",
       " 'role': 'assistant',\n",
       " 'function_call': FunctionCall(arguments='{\\n  \"location\": \"Boston, MA\"\\n}', name='get_current_weather'),\n",
       " 'tool_calls': None}"
      ]
     },
     "execution_count": 54,
     "metadata": {},
     "output_type": "execute_result"
    }
   ],
   "source": [
    "# Step 1: send the conversation and available functions to GPT\n",
    "messages = [{\"role\": \"user\", \"content\": \"What's the weather like in Boston?\"}]\n",
    "response = openai.chat.completions.create(\n",
    "    model=\"gpt-3.5-turbo-0613\",\n",
    "    messages=messages,\n",
    "    functions=functions,\n",
    "    function_call=\"auto\",  # auto is default, but we'll be explicit\n",
    ")\n",
    "response_message = response.choices[0].message\n",
    "dict(response_message)"
   ]
  },
  {
   "cell_type": "code",
   "execution_count": 55,
   "metadata": {},
   "outputs": [
    {
     "data": {
      "text/plain": [
       "'{\"location\": \"Boston, MA\", \"temperature\": \"72\", \"unit\": null, \"forecast\": [\"sunny\", \"windy\"]}'"
      ]
     },
     "execution_count": 55,
     "metadata": {},
     "output_type": "execute_result"
    }
   ],
   "source": [
    "# Step 2: check if GPT wanted to call a function, and call it\n",
    "if response_message.function_call is not None:\n",
    "    # Note: the JSON response may not always be valid; be sure to handle errors\n",
    "    available_functions = {\n",
    "        \"get_current_weather\": get_current_weather,\n",
    "    }  # only one function in this example, but you can have multiple\n",
    "    function_name = response_message.function_call.name\n",
    "    function_to_call = available_functions[function_name]\n",
    "    function_args = json.loads(response_message.function_call.arguments)\n",
    "    function_response = function_to_call(\n",
    "        location=function_args.get(\"location\"),\n",
    "        unit=function_args.get(\"unit\"),\n",
    "    )\n",
    "function_response"
   ]
  },
  {
   "cell_type": "code",
   "execution_count": 34,
   "metadata": {},
   "outputs": [
    {
     "data": {
      "text/plain": [
       "'The current weather in Boston is sunny and windy with a temperature of 72 degrees.'"
      ]
     },
     "execution_count": 34,
     "metadata": {},
     "output_type": "execute_result"
    }
   ],
   "source": [
    "# Step 3: send the info on the function call and function response to GPT\n",
    "messages.append(response_message)  # extend conversation with assistant's reply\n",
    "messages.append(\n",
    "    {\n",
    "        \"role\": \"function\",\n",
    "        \"name\": function_name,\n",
    "        \"content\": function_response,\n",
    "    }\n",
    ")  # extend conversation with function response\n",
    "second_response = openai.chat.completions.create(\n",
    "    model=\"gpt-3.5-turbo-0613\",\n",
    "    messages=messages,\n",
    ")  # get a new response from GPT where it can see the function response\n",
    "second_response.choices[0].message.content"
   ]
  },
  {
   "cell_type": "markdown",
   "metadata": {},
   "source": [
    "## OpenAI Assistants"
   ]
  },
  {
   "cell_type": "markdown",
   "metadata": {},
   "source": [
    "- [Assistant overview](https://platform.openai.com/docs/assistants/overview)"
   ]
  },
  {
   "cell_type": "markdown",
   "metadata": {},
   "source": [
    "### Step 1: Create an Assistant"
   ]
  },
  {
   "cell_type": "markdown",
   "metadata": {},
   "source": [
    "An [Assistant](https://platform.openai.com/docs/api-reference/assistants/object) represents an entity that can be configured to respond to a user's messages using several parameters like `model`, `instructions`, and `tools`."
   ]
  },
  {
   "cell_type": "code",
   "execution_count": 72,
   "metadata": {},
   "outputs": [],
   "source": [
    "from openai import OpenAI\n",
    "client = OpenAI()\n",
    "# Step 1: create an assistant\n",
    "assistant = client.beta.assistants.create(\n",
    "  name=\"Math Tutor\",\n",
    "  instructions=\"You are a personal math tutor. Write and run code to answer math questions.\",\n",
    "  tools=[{\"type\": \"code_interpreter\"}],\n",
    "  model=\"gpt-4-turbo\",\n",
    ")"
   ]
  },
  {
   "cell_type": "code",
   "execution_count": 73,
   "metadata": {},
   "outputs": [
    {
     "name": "stdout",
     "output_type": "stream",
     "text": [
      "id: asst_RjI8kOYWuIa8t6DXPlembrrW\n",
      "Name: Math Tutor\n",
      "Model: gpt-4-turbo\n",
      "Tools: ['code_interpreter']\n"
     ]
    }
   ],
   "source": [
    "print(\"id:\", assistant.id)\n",
    "print(\"Name:\", assistant.name)\n",
    "print(\"Model:\", assistant.model)\n",
    "print(\"Tools:\", [t.type for t in assistant.tools])"
   ]
  },
  {
   "cell_type": "markdown",
   "metadata": {},
   "source": [
    "### Step 2: Create a Thread"
   ]
  },
  {
   "cell_type": "markdown",
   "metadata": {},
   "source": [
    "A [Thread](https://platform.openai.com/docs/api-reference/threads/object) represents a conversation between a user and one or many Assistants. You can create a Thread when a user (or your AI application) starts a conversation with your Assistant."
   ]
  },
  {
   "cell_type": "code",
   "execution_count": 74,
   "metadata": {},
   "outputs": [],
   "source": [
    "# Step 2: create a thread\n",
    "thread = client.beta.threads.create()"
   ]
  },
  {
   "cell_type": "code",
   "execution_count": 75,
   "metadata": {},
   "outputs": [
    {
     "data": {
      "text/plain": [
       "'thread_4RO03JN9aTWIEoJ78rLhuuxW'"
      ]
     },
     "execution_count": 75,
     "metadata": {},
     "output_type": "execute_result"
    }
   ],
   "source": [
    "thread.id"
   ]
  },
  {
   "cell_type": "code",
   "execution_count": 82,
   "metadata": {},
   "outputs": [
    {
     "data": {
      "text/plain": [
       "'2024-05-05 10:47:07'"
      ]
     },
     "execution_count": 82,
     "metadata": {},
     "output_type": "execute_result"
    }
   ],
   "source": [
    "from datetime import datetime\n",
    "datetime.fromtimestamp(assistant.created_at).strftime('%Y-%m-%d %H:%M:%S')"
   ]
  },
  {
   "cell_type": "markdown",
   "metadata": {},
   "source": [
    "### Step 3: Add a Message to the Thread"
   ]
  },
  {
   "cell_type": "markdown",
   "metadata": {},
   "source": [
    "The contents of the messages your users or applications create are added as [Message](https://platform.openai.com/docs/api-reference/messages/object) objects to the Thread. Messages can contain both text and files. There is no limit to the number of Messages you can add to Threads — we smartly truncate any context that does not fit into the model's context window."
   ]
  },
  {
   "cell_type": "code",
   "execution_count": 77,
   "metadata": {},
   "outputs": [],
   "source": [
    "# Step 3: Add a Message to the Thread\n",
    "message = client.beta.threads.messages.create(\n",
    "  thread_id=thread.id,\n",
    "  role=\"user\",\n",
    "  content=\"I need to solve the equation `3x + 11 = 14`. Can you help me?\"\n",
    ")"
   ]
  },
  {
   "cell_type": "code",
   "execution_count": 87,
   "metadata": {},
   "outputs": [
    {
     "data": {
      "text/plain": [
       "'I need to solve the equation `3x + 11 = 14`. Can you help me?'"
      ]
     },
     "execution_count": 87,
     "metadata": {},
     "output_type": "execute_result"
    }
   ],
   "source": [
    "message.content[0].text.value"
   ]
  },
  {
   "cell_type": "markdown",
   "metadata": {},
   "source": [
    "### Step 4: Create a Run"
   ]
  },
  {
   "cell_type": "markdown",
   "metadata": {},
   "source": [
    "Once all the user Messages have been added to the Thread, you can [Run](https://platform.openai.com/docs/api-reference/runs/object) the Thread with any Assistant. Creating a Run uses the model and tools associated with the Assistant to generate a response. These responses are added to the Thread as assistant Messages."
   ]
  },
  {
   "cell_type": "markdown",
   "metadata": {},
   "source": [
    "- **Without streaming**:\n",
    "Runs are asynchronous, which means you'll want to monitor their status by polling the Run object until a terminal status is reached. For convenience, the 'create and poll' SDK helpers assist both in creating the run and then polling for its completion.\n",
    "- **With streaming**:\n",
    "You can use the 'create and stream' helpers in the Python and Node SDKs to create a run and stream the response."
   ]
  },
  {
   "cell_type": "code",
   "execution_count": 79,
   "metadata": {},
   "outputs": [
    {
     "name": "stdout",
     "output_type": "stream",
     "text": [
      "The solution to the equation \\(3x + 11 = 14\\) is \\(x = 1\\).\n"
     ]
    }
   ],
   "source": [
    "# Step 4: Create a Run (without streaming)\n",
    "run = client.beta.threads.runs.create_and_poll(\n",
    "  thread_id=thread.id,\n",
    "  assistant_id=assistant.id,\n",
    ")\n",
    "if run.status == 'completed': \n",
    "  messages = client.beta.threads.messages.list(\n",
    "    thread_id=thread.id\n",
    "  )\n",
    "  print(messages.data[0].content[0].text.value)"
   ]
  },
  {
   "cell_type": "markdown",
   "metadata": {},
   "source": [
    "### Run lifecycle"
   ]
  },
  {
   "cell_type": "markdown",
   "metadata": {},
   "source": [
    "You may also want to list the [Run Steps](https://platform.openai.com/docs/api-reference/run-steps/listRunSteps) if you'd like to look at any tool calls made during this Run."
   ]
  },
  {
   "cell_type": "code",
   "execution_count": 81,
   "metadata": {},
   "outputs": [
    {
     "name": "stdout",
     "output_type": "stream",
     "text": [
      "Type:  message_creation\n",
      "The solution to the equation \\(3x + 11 = 14\\) is \\(x = 1\\).\n",
      "------\n",
      "Type:  tool_calls\n",
      "from sympy import symbols, Eq, solve\n",
      "\n",
      "x = symbols('x')\n",
      "equation = Eq(3*x + 11, 14)\n",
      "solution = solve(equation, x)\n",
      "solution\n",
      "------\n",
      "Type:  message_creation\n",
      "Sure, I can help you solve the equation \\(3x + 11 = 14\\).\n",
      "\n",
      "Let's start by isolating \\(x\\) on one side of the equation.\n",
      "------\n"
     ]
    }
   ],
   "source": [
    "run_steps = client.beta.threads.runs.steps.list(\n",
    "    thread_id=thread.id,\n",
    "    run_id=run.id\n",
    ")\n",
    "\n",
    "for d in run_steps.data:\n",
    "    print(\"Type: \",d.step_details.type)\n",
    "    if d.step_details.type == 'message_creation':\n",
    "        i = d.step_details.message_creation.message_id\n",
    "        m = client.beta.threads.messages.retrieve(\n",
    "            thread_id=thread.id,\n",
    "            message_id=i\n",
    "        )\n",
    "        print(m.content[0].text.value)\n",
    "    elif d.step_details.type == 'tool_calls':\n",
    "        print(d.step_details.tool_calls[0].code_interpreter.input)\n",
    "    print(\"------\")"
   ]
  },
  {
   "cell_type": "markdown",
   "metadata": {},
   "source": [
    "## Passing files to Code Interpreter: meet the Data Analyst"
   ]
  },
  {
   "cell_type": "markdown",
   "metadata": {},
   "source": [
    "Demo with the Titanic dataset.\n",
    "\n",
    "https://www.kaggle.com/c/titanic/data"
   ]
  },
  {
   "cell_type": "code",
   "execution_count": 2,
   "metadata": {},
   "outputs": [],
   "source": [
    "from openai import OpenAI\n",
    "client = OpenAI()\n",
    "analyst = client.beta.assistants.create(\n",
    "  name=\"Data Analyst\",\n",
    "  instructions=\"You are a data analyst. When asked a question, write and run code to answer the question.\",\n",
    "  model=\"gpt-4-turbo\",\n",
    "  tools=[{\"type\": \"code_interpreter\"}]\n",
    ")"
   ]
  },
  {
   "cell_type": "code",
   "execution_count": 3,
   "metadata": {},
   "outputs": [],
   "source": [
    "# Upload a file with an \"assistants\" purpose\n",
    "file = client.files.create(\n",
    "  file=open(\"titanic.csv\", \"rb\"),\n",
    "  purpose='assistants'\n",
    ")"
   ]
  },
  {
   "cell_type": "code",
   "execution_count": 11,
   "metadata": {},
   "outputs": [
    {
     "data": {
      "text/plain": [
       "'file-vSBcoeH1Z8jQjWj87LPgkecl'"
      ]
     },
     "execution_count": 11,
     "metadata": {},
     "output_type": "execute_result"
    }
   ],
   "source": [
    "file.id"
   ]
  },
  {
   "cell_type": "code",
   "execution_count": 29,
   "metadata": {},
   "outputs": [],
   "source": [
    "thread = client.beta.threads.create()\n",
    "message = client.beta.threads.messages.create(\n",
    "  thread_id=thread.id,\n",
    "  role=\"user\",\n",
    "  content=\"What is the average age of passengers on the Titanic?\",\n",
    "  attachments=[\n",
    "    {\n",
    "      \"file_id\": file.id,\n",
    "      \"tools\": [{\"type\": \"code_interpreter\"}]\n",
    "    }\n",
    "  ]\n",
    ")"
   ]
  },
  {
   "cell_type": "code",
   "execution_count": 30,
   "metadata": {},
   "outputs": [
    {
     "name": "stdout",
     "output_type": "stream",
     "text": [
      "The average age of passengers on the Titanic was approximately 29.7 years.\n"
     ]
    }
   ],
   "source": [
    "run = client.beta.threads.runs.create_and_poll(\n",
    "  thread_id=thread.id,\n",
    "  assistant_id=analyst.id,\n",
    ")\n",
    "if run.status == 'completed': \n",
    "  messages = client.beta.threads.messages.list(\n",
    "    thread_id=thread.id\n",
    "  )\n",
    "  print(messages.data[0].content[0].text.value)"
   ]
  },
  {
   "cell_type": "code",
   "execution_count": 31,
   "metadata": {},
   "outputs": [
    {
     "name": "stdout",
     "output_type": "stream",
     "text": [
      "What is the average age of passengers on the Titanic?\n",
      "To calculate the average age of the passengers on the Titanic, I'll first need to load and inspect the dataset to locate the appropriate column for age. Let's start by reading the data.\n",
      "The dataset has a column named 'Age' that contains the ages of the passengers. Let's calculate the average age of the passengers using this column.\n",
      "The average age of passengers on the Titanic was approximately 29.7 years.\n"
     ]
    }
   ],
   "source": [
    "# Inspect the chain of thoughts\n",
    "for m in messages.data[::-1]:\n",
    "    # Print message content in reversed order as they pile up\n",
    "    print(m.content[0].text.value)"
   ]
  },
  {
   "cell_type": "code",
   "execution_count": 32,
   "metadata": {},
   "outputs": [
    {
     "name": "stdout",
     "output_type": "stream",
     "text": [
      "import pandas as pd\n",
      "\n",
      "# Load the data from the uploaded file\n",
      "file_path = '/mnt/data/file-vSBcoeH1Z8jQjWj87LPgkecl'\n",
      "data = pd.read_csv(file_path)\n",
      "\n",
      "# Show a sample of the data and the column names\n",
      "data.head(), data.columns\n",
      "# Calculate the average age of the passengers\n",
      "average_age = data['Age'].mean()\n",
      "average_age\n"
     ]
    }
   ],
   "source": [
    "run_steps = client.beta.threads.runs.steps.list(\n",
    "    thread_id=thread.id,\n",
    "    run_id=run.id\n",
    ")\n",
    "# Extract only the code interpreter input\n",
    "for d in run_steps.data[::-1]:\n",
    "    if d.step_details.type == 'tool_calls':\n",
    "        print(d.step_details.tool_calls[0].code_interpreter.input)"
   ]
  },
  {
   "cell_type": "code",
   "execution_count": 33,
   "metadata": {},
   "outputs": [
    {
     "data": {
      "text/plain": [
       "[\"import pandas as pd\\r\\n\\r\\n# Load the data from the uploaded file\\r\\nfile_path = '/mnt/data/file-vSBcoeH1Z8jQjWj87LPgkecl'\\r\\ndata = pd.read_csv(file_path)\\r\\n\\r\\n# Show a sample of the data and the column names\\r\\ndata.head(), data.columns\",\n",
       " \"# Calculate the average age of the passengers\\naverage_age = data['Age'].mean()\\naverage_age\"]"
      ]
     },
     "execution_count": 33,
     "metadata": {},
     "output_type": "execute_result"
    }
   ],
   "source": [
    "code = [d.step_details.tool_calls[0].code_interpreter.input for d in run_steps.data[::-1] if d.step_details.type == 'tool_calls']\n",
    "code"
   ]
  },
  {
   "cell_type": "markdown",
   "metadata": {},
   "source": [
    "### Reading images and files generated by Code Interpreter"
   ]
  },
  {
   "cell_type": "markdown",
   "metadata": {},
   "source": [
    "ChatGPT interpreter plugin demo"
   ]
  },
  {
   "cell_type": "code",
   "execution_count": null,
   "metadata": {},
   "outputs": [
    {
     "data": {
      "text/plain": [
       "[Assistant(id='asst_somL5t4D3BKYer05lZgcmdY3', created_at=1714946510, description=None, instructions='You are a data analyst. When asked a question, write and run code to answer the question.', metadata={}, model='gpt-4-turbo', name='Data Analyst', object='assistant', tools=[CodeInterpreterTool(type='code_interpreter')], response_format='auto', temperature=1.0, tool_resources=ToolResources(code_interpreter=ToolResourcesCodeInterpreter(file_ids=[]), file_search=None), top_p=1.0),\n",
       " Assistant(id='asst_RjI8kOYWuIa8t6DXPlembrrW', created_at=1714920427, description=None, instructions='You are a personal math tutor. Write and run code to answer math questions.', metadata={}, model='gpt-4-turbo', name='Math Tutor', object='assistant', tools=[CodeInterpreterTool(type='code_interpreter')], response_format='auto', temperature=1.0, tool_resources=ToolResources(code_interpreter=ToolResourcesCodeInterpreter(file_ids=[]), file_search=None), top_p=1.0),\n",
       " Assistant(id='asst_ugQ1zfKNdgR0PoprIRi7IdqO', created_at=1714914648, description=None, instructions='You can give the weather', metadata={}, model='gpt-4-turbo', name='Weather smith', object='assistant', tools=[FunctionTool(function=FunctionDefinition(name='get_current_weather', description='Get the current weather in a given location', parameters={'type': 'object', 'properties': {'location': {'type': 'string', 'description': 'The city and state, e.g. Boston, MA'}, 'unit': {'type': 'string', 'enum': ['celsius', 'fahrenheit']}}, 'required': ['location']}), type='function')], response_format='auto', temperature=1.0, tool_resources=ToolResources(code_interpreter=None, file_search=None), top_p=1.0),\n",
       " Assistant(id='asst_5zjj3Cp5W2DOT6sRLeT6Cf23', created_at=1705368714, description=None, instructions=None, metadata={}, model='gpt-3.5-turbo-1106', name='Python assistant', object='assistant', tools=[CodeInterpreterTool(type='code_interpreter')], response_format='auto', temperature=1.0, tool_resources=ToolResources(code_interpreter=ToolResourcesCodeInterpreter(file_ids=[]), file_search=None), top_p=1.0),\n",
       " Assistant(id='asst_VGeYwqw0kg8TDBkrK7QIWDUY', created_at=1705354975, description=None, instructions=None, metadata={}, model='gpt-3.5-turbo-1106', name='Simple bot', object='assistant', tools=[], response_format='auto', temperature=1.0, tool_resources=ToolResources(code_interpreter=None, file_search=None), top_p=1.0),\n",
       " Assistant(id='asst_lsvO9XkKXRoPnOqglWWVQJ8q', created_at=1705091060, description=None, instructions='You are a MATLAB Assistant. Use your knowledge base to best respond to customer queries.', metadata={}, model='gpt-4-1106-preview', name='MATLAB Primer', object='assistant', tools=[FileSearchTool(type='file_search')], response_format='auto', temperature=1.0, tool_resources=ToolResources(code_interpreter=None, file_search=ToolResourcesFileSearch(vector_store_ids=['vs_mJis5TOBOV38cU914nc7DqD8'])), top_p=1.0)]"
      ]
     },
     "metadata": {},
     "output_type": "display_data"
    }
   ],
   "source": [
    "# List existing assistants\n",
    "assistants = client.beta.assistants.list()\n",
    "assistants.data"
   ]
  },
  {
   "cell_type": "code",
   "execution_count": 39,
   "metadata": {},
   "outputs": [
    {
     "data": {
      "text/plain": [
       "Assistant(id='asst_somL5t4D3BKYer05lZgcmdY3', created_at=1714946510, description=None, instructions='You are a data analyst. When asked a question, write and run code to answer the question.', metadata={}, model='gpt-4-turbo', name='Data Analyst', object='assistant', tools=[CodeInterpreterTool(type='code_interpreter')], response_format='auto', temperature=1.0, tool_resources=ToolResources(code_interpreter=ToolResourcesCodeInterpreter(file_ids=[]), file_search=None), top_p=1.0)"
      ]
     },
     "execution_count": 39,
     "metadata": {},
     "output_type": "execute_result"
    }
   ],
   "source": [
    "# Retrieve data analyst\n",
    "analyst_id = 'asst_somL5t4D3BKYer05lZgcmdY3'\n",
    "client.beta.assistants.retrieve(analyst_id)"
   ]
  },
  {
   "cell_type": "code",
   "execution_count": 37,
   "metadata": {},
   "outputs": [],
   "source": [
    "prompts = [\n",
    "    \"plot function 1/sin(x)\",\n",
    "    \"zoom in to range of x values between 0 and 1\",\n",
    "    \"plot a tangent line to the graph at x=0.3\",\n",
    "    \"zoom in to the point of tangency\"\n",
    "]"
   ]
  },
  {
   "cell_type": "code",
   "execution_count": 38,
   "metadata": {},
   "outputs": [],
   "source": [
    "# Create a new thread\n",
    "thread = client.beta.threads.create()\n",
    "message = client.beta.threads.messages.create(\n",
    "  thread_id=thread.id, role=\"user\", content=prompts[0])"
   ]
  },
  {
   "cell_type": "code",
   "execution_count": 40,
   "metadata": {},
   "outputs": [
    {
     "data": {
      "text/plain": [
       "Message(id='msg_QhJN8P6cZJSZgidYNyjwdkwe', assistant_id='asst_somL5t4D3BKYer05lZgcmdY3', attachments=[], completed_at=None, content=[ImageFileContentBlock(image_file=ImageFile(file_id='file-8UVyWuiKqB3ALtIF0h8sAewt'), type='image_file'), TextContentBlock(text=Text(annotations=[], value=\"Here is the plot of the function \\\\(\\\\frac{1}{\\\\sin(x)}\\\\) over the range from \\\\(-2\\\\pi\\\\) to \\\\(2\\\\pi\\\\). I've limited the y-axis to the range \\\\([-10, 10]\\\\) to keep the plot visually informative, especially around values where the sine function approaches zero and the function \\\\(\\\\frac{1}{\\\\sin(x)}\\\\) approaches infinity.\"), type='text')], created_at=1714948943, incomplete_at=None, incomplete_details=None, metadata={}, object='thread.message', role='assistant', run_id='run_tO0e1vGKvMHAU86kvB5LKoom', status=None, thread_id='thread_iHrMsStk78Sz80CL9KCdhVvh')"
      ]
     },
     "execution_count": 40,
     "metadata": {},
     "output_type": "execute_result"
    }
   ],
   "source": [
    "run = client.beta.threads.runs.create_and_poll(thread_id=thread.id,assistant_id=analyst_id,)\n",
    "if run.status == 'completed': \n",
    "  messages = client.beta.threads.messages.list(thread_id=thread.id)\n",
    "messages.data[0]"
   ]
  },
  {
   "cell_type": "code",
   "execution_count": 41,
   "metadata": {},
   "outputs": [
    {
     "data": {
      "text/plain": [
       "{'id': 'msg_QhJN8P6cZJSZgidYNyjwdkwe',\n",
       " 'assistant_id': 'asst_somL5t4D3BKYer05lZgcmdY3',\n",
       " 'attachments': [],\n",
       " 'completed_at': None,\n",
       " 'content': [ImageFileContentBlock(image_file=ImageFile(file_id='file-8UVyWuiKqB3ALtIF0h8sAewt'), type='image_file'),\n",
       "  TextContentBlock(text=Text(annotations=[], value=\"Here is the plot of the function \\\\(\\\\frac{1}{\\\\sin(x)}\\\\) over the range from \\\\(-2\\\\pi\\\\) to \\\\(2\\\\pi\\\\). I've limited the y-axis to the range \\\\([-10, 10]\\\\) to keep the plot visually informative, especially around values where the sine function approaches zero and the function \\\\(\\\\frac{1}{\\\\sin(x)}\\\\) approaches infinity.\"), type='text')],\n",
       " 'created_at': 1714948943,\n",
       " 'incomplete_at': None,\n",
       " 'incomplete_details': None,\n",
       " 'metadata': {},\n",
       " 'object': 'thread.message',\n",
       " 'role': 'assistant',\n",
       " 'run_id': 'run_tO0e1vGKvMHAU86kvB5LKoom',\n",
       " 'status': None,\n",
       " 'thread_id': 'thread_iHrMsStk78Sz80CL9KCdhVvh'}"
      ]
     },
     "execution_count": 41,
     "metadata": {},
     "output_type": "execute_result"
    }
   ],
   "source": [
    "dict(messages.data[0])"
   ]
  },
  {
   "cell_type": "code",
   "execution_count": 52,
   "metadata": {},
   "outputs": [
    {
     "data": {
      "image/png": "[encoded data removed]",
      "text/plain": [
       "<IPython.core.display.Image object>"
      ]
     },
     "execution_count": 52,
     "metadata": {},
     "output_type": "execute_result"
    }
   ],
   "source": [
    "from IPython.display import Image\n",
    "for c in messages.data[0].content:\n",
    "    if c.type == 'image_file':\n",
    "        image_data = client.files.content(c.image_file.file_id)\n",
    "        image_data_bytes = image_data.read()\n",
    "        with open(f\"./{c.image_file.file_id}.png\", \"wb\") as file:\n",
    "            file.write(image_data_bytes)\n",
    "Image(image_data_bytes)"
   ]
  },
  {
   "cell_type": "code",
   "execution_count": 53,
   "metadata": {},
   "outputs": [
    {
     "name": "stdout",
     "output_type": "stream",
     "text": [
      "Here is the plot of the function \\(\\frac{1}{\\sin(x)}\\) over the range from \\(-2\\pi\\) to \\(2\\pi\\). I've limited the y-axis to the range \\([-10, 10]\\) to keep the plot visually informative, especially around values where the sine function approaches zero and the function \\(\\frac{1}{\\sin(x)}\\) approaches infinity.\n"
     ]
    }
   ],
   "source": [
    "for c in messages.data[0].content:\n",
    "    if c.type == 'text':\n",
    "        print(c.text.value)"
   ]
  },
  {
   "cell_type": "markdown",
   "metadata": {},
   "source": [
    "## File search"
   ]
  },
  {
   "cell_type": "code",
   "execution_count": 2,
   "metadata": {},
   "outputs": [],
   "source": [
    "from openai import OpenAI\n",
    " \n",
    "client = OpenAI()"
   ]
  },
  {
   "cell_type": "code",
   "execution_count": null,
   "metadata": {},
   "outputs": [],
   "source": [
    "# Step 1: Create a new Assistant with File Search Enabled\n",
    "assistant = client.beta.assistants.create(\n",
    "  name=\"Vector search expert\",\n",
    "  instructions=\"You are an expert about Vector search\",\n",
    "  model=\"gpt-4-turbo\",\n",
    "  tools=[{\"type\": \"file_search\"}],\n",
    ")"
   ]
  },
  {
   "cell_type": "code",
   "execution_count": 56,
   "metadata": {},
   "outputs": [
    {
     "name": "stdout",
     "output_type": "stream",
     "text": [
      "completed\n",
      "FileCounts(cancelled=0, completed=1, failed=0, in_progress=0, total=1)\n"
     ]
    }
   ],
   "source": [
    "# Step 2: Upload files and add them to a Vector Store\n",
    "# Create a vector store \n",
    "vector_store = client.beta.vector_stores.create(name=\"Vector search chapter\")\n",
    "file_paths = [\"../chap4/Chap 4 - Vector search & Question Answering.pdf\"]\n",
    "file_streams = [open(path, \"rb\") for path in file_paths]\n",
    "# Use the upload and poll SDK helper to upload the files, add them to the vector store,\n",
    "# and poll the status of the file batch for completion.\n",
    "file_batch = client.beta.vector_stores.file_batches.upload_and_poll(\n",
    "  vector_store_id=vector_store.id, files=file_streams\n",
    ")\n",
    "\n",
    "# You can print the status and the file counts of the batch to see the result of this operation.\n",
    "print(file_batch.status)\n",
    "print(file_batch.file_counts)"
   ]
  },
  {
   "cell_type": "code",
   "execution_count": 57,
   "metadata": {},
   "outputs": [],
   "source": [
    "# Step 3: Update the assistant to to use the new Vector Store\n",
    "assistant = client.beta.assistants.update(\n",
    "  assistant_id=assistant.id,\n",
    "  tool_resources={\"file_search\": {\"vector_store_ids\": [vector_store.id]}},\n",
    ")"
   ]
  },
  {
   "cell_type": "code",
   "execution_count": 60,
   "metadata": {},
   "outputs": [
    {
     "name": "stdout",
     "output_type": "stream",
     "text": [
      "ToolResourcesFileSearch(vector_store_ids=['vs_ulgeT4pn8fzb5wJYebXivJHo'])\n"
     ]
    }
   ],
   "source": [
    "# Step 4: Create a thread\n",
    "# Upload the user provided file to OpenAI\n",
    "message_file = client.files.create(\n",
    "  file=open(\"../chap3/Chap 3 - Chaining & Summarization.pdf\", \"rb\"), purpose=\"assistants\"\n",
    ")\n",
    "\n",
    "prompt = \"What is the definition of Vector search\"\n",
    "# Create a thread and attach the file to the message\n",
    "thread = client.beta.threads.create(\n",
    "  messages=[\n",
    "    {\n",
    "      \"role\": \"user\",\n",
    "      \"content\": prompt,\n",
    "      # Attach the new file to the message.\n",
    "      \"attachments\": [\n",
    "        { \"file_id\": message_file.id, \"tools\": [{\"type\": \"file_search\"}] }\n",
    "      ],\n",
    "    }\n",
    "  ]\n",
    ")\n",
    " \n",
    "# The thread now has a vector store with that file in its tool resources.\n",
    "print(thread.tool_resources.file_search)"
   ]
  },
  {
   "cell_type": "code",
   "execution_count": 61,
   "metadata": {},
   "outputs": [
    {
     "name": "stdout",
     "output_type": "stream",
     "text": [
      "Vector search, also known as semantic search or approximate search, is a search method that uses vector embeddings to represent the content in a multi-dimensional space. This technique allows the system to understand and measure the semantic similarity between queries and documents, rather than relying solely on keyword matching.\n",
      "\n",
      "In vector search, both the search queries and the items in the database (such as documents, images, or products) are converted into vectors using models like word embeddings or neural networks. The similarity between the query vector and document vectors is then computed using a distance measure such as cosine similarity. Items that are closer to the query vector in this vector space are considered more relevant to the query.\n",
      "\n",
      "This approach enables more nuanced and context-aware search results because it can capture the underlying meanings and relationships of words and phrases, rather than just their surface representations. Vector search is commonly used in various applications, including search engines, recommendation systems, and data retrieval systems.\n",
      "\n"
     ]
    }
   ],
   "source": [
    "# Step 5: Create a run and check the output\n",
    "# Use the create and poll SDK helper to create a run and poll the status of\n",
    "# the run until it's in a terminal state.\n",
    "\n",
    "run = client.beta.threads.runs.create_and_poll(\n",
    "    thread_id=thread.id, assistant_id=assistant.id\n",
    ")\n",
    "\n",
    "messages = list(client.beta.threads.messages.list(thread_id=thread.id, run_id=run.id))\n",
    "\n",
    "message_content = messages[0].content[0].text\n",
    "annotations = message_content.annotations\n",
    "citations = []\n",
    "for index, annotation in enumerate(annotations):\n",
    "    message_content.value = message_content.value.replace(annotation.text, f\"[{index}]\")\n",
    "    if file_citation := getattr(annotation, \"file_citation\", None):\n",
    "        cited_file = client.files.retrieve(file_citation.file_id)\n",
    "        citations.append(f\"[{index}] {cited_file.filename}\")\n",
    "\n",
    "print(message_content.value)\n",
    "print(\"\\n\".join(citations))"
   ]
  },
  {
   "cell_type": "markdown",
   "metadata": {},
   "source": [
    "Retrieve existing assistant and thread to debug `assistant_app.py`."
   ]
  },
  {
   "cell_type": "code",
   "execution_count": null,
   "metadata": {},
   "outputs": [],
   "source": [
    "# Step 1b: Retrieve an existing Assistant with File Search Enabled\n",
    "assistant = client.beta.assistants.retrieve(\"asst_lKH0wC1rCQN1ZnyzGinbYVs3\")"
   ]
  },
  {
   "cell_type": "code",
   "execution_count": 19,
   "metadata": {},
   "outputs": [
    {
     "data": {
      "text/plain": [
       "Assistant(id='asst_W7jTBEcOtGhfVB6ua2vtZ9iE', created_at=1716380534, description=None, instructions='You are an expert about Vector search', metadata={}, model='gpt-4-turbo', name='Vector search expert', object='assistant', tools=[FileSearchTool(type='file_search')], response_format='auto', temperature=1.0, tool_resources=ToolResources(code_interpreter=None, file_search=ToolResourcesFileSearch(vector_store_ids=[])), top_p=1.0)"
      ]
     },
     "execution_count": 19,
     "metadata": {},
     "output_type": "execute_result"
    }
   ],
   "source": [
    "assistant"
   ]
  },
  {
   "cell_type": "code",
   "execution_count": 5,
   "metadata": {},
   "outputs": [
    {
     "data": {
      "text/plain": [
       "Thread(id='thread_j3Qmp3fgeWS86zBaozeO31D0', created_at=1716379786, metadata={}, object='thread', tool_resources=ToolResources(code_interpreter=ToolResourcesCodeInterpreter(file_ids=[]), file_search=None))"
      ]
     },
     "execution_count": 5,
     "metadata": {},
     "output_type": "execute_result"
    }
   ],
   "source": [
    "thread = client.beta.threads.retrieve(\"thread_j3Qmp3fgeWS86zBaozeO31D0\")\n",
    "thread"
   ]
  },
  {
   "cell_type": "code",
   "execution_count": 20,
   "metadata": {},
   "outputs": [],
   "source": [
    "thread.tool_resources.file_search"
   ]
  },
  {
   "cell_type": "code",
   "execution_count": 6,
   "metadata": {},
   "outputs": [
    {
     "data": {
      "text/plain": [
       "SyncCursorPage[Message](data=[Message(id='msg_hbXYZVEIMExHxodUjp0Vduds', assistant_id='asst_lKH0wC1rCQN1ZnyzGinbYVs3', attachments=[], completed_at=None, content=[TextContentBlock(text=Text(annotations=[FileCitationAnnotation(end_index=121, file_citation=FileCitation(file_id='file-ScLMtcsqDu9cIKjgXGFamkzn', quote=None), start_index=109, text='【4:0†source】', type='file_citation')], value='The vector databases mentioned in the document include Chroma, Pinecone, Weaviate, Faiss, Qdrant, and MongoDB【4:0†source】.'), type='text')], created_at=1716379942, incomplete_at=None, incomplete_details=None, metadata={}, object='thread.message', role='assistant', run_id='run_5hXFe6OAyWFZAa0PmkX6LvMl', status=None, thread_id='thread_j3Qmp3fgeWS86zBaozeO31D0'), Message(id='msg_PrvNF6t42DPTg9VqBbTEXlHn', assistant_id=None, attachments=[], completed_at=None, content=[TextContentBlock(text=Text(annotations=[], value='what are the vector databases mentioned'), type='text')], created_at=1716379936, incomplete_at=None, incomplete_details=None, metadata={}, object='thread.message', role='user', run_id=None, status=None, thread_id='thread_j3Qmp3fgeWS86zBaozeO31D0')], object='list', first_id='msg_hbXYZVEIMExHxodUjp0Vduds', last_id='msg_PrvNF6t42DPTg9VqBbTEXlHn', has_more=False)"
      ]
     },
     "execution_count": 6,
     "metadata": {},
     "output_type": "execute_result"
    }
   ],
   "source": [
    "messages = client.beta.threads.messages.list(\"thread_j3Qmp3fgeWS86zBaozeO31D0\")\n",
    "messages"
   ]
  },
  {
   "cell_type": "code",
   "execution_count": 7,
   "metadata": {},
   "outputs": [
    {
     "data": {
      "text/plain": [
       "'The vector databases mentioned in the document include Chroma, Pinecone, Weaviate, Faiss, Qdrant, and MongoDB【4:0†source】.'"
      ]
     },
     "execution_count": 7,
     "metadata": {},
     "output_type": "execute_result"
    }
   ],
   "source": [
    "messages.data[0].content[0].text.value"
   ]
  },
  {
   "cell_type": "code",
   "execution_count": 13,
   "metadata": {},
   "outputs": [
    {
     "data": {
      "text/plain": [
       "{'annotations': [FileCitationAnnotation(end_index=121, file_citation=FileCitation(file_id='file-ScLMtcsqDu9cIKjgXGFamkzn', quote=None), start_index=109, text='【4:0†source】', type='file_citation')],\n",
       " 'value': 'The vector databases mentioned in the document include Chroma, Pinecone, Weaviate, Faiss, Qdrant, and MongoDB【4:0†source】.'}"
      ]
     },
     "execution_count": 13,
     "metadata": {},
     "output_type": "execute_result"
    }
   ],
   "source": [
    "dict(messages.data[0].content[0].text)"
   ]
  },
  {
   "cell_type": "code",
   "execution_count": 16,
   "metadata": {},
   "outputs": [
    {
     "data": {
      "text/plain": [
       "[FileCitationAnnotation(end_index=121, file_citation=FileCitation(file_id='file-ScLMtcsqDu9cIKjgXGFamkzn', quote=None), start_index=109, text='【4:0†source】', type='file_citation')]"
      ]
     },
     "execution_count": 16,
     "metadata": {},
     "output_type": "execute_result"
    }
   ],
   "source": [
    "annotations = messages.data[0].content[0].text.annotations\n",
    "annotations"
   ]
  },
  {
   "cell_type": "code",
   "execution_count": null,
   "metadata": {},
   "outputs": [
    {
     "name": "stdout",
     "output_type": "stream",
     "text": [
      "The vector databases mentioned in the document include Chroma, Pinecone, Weaviate, Faiss, Qdrant, and MongoDB[0].\n",
      "[0] Chap 4 - Vector search & Question Answering.pdf\n"
     ]
    }
   ],
   "source": [
    "message_content = messages.data[0].content[0].text\n",
    "annotations = message_content.annotations\n",
    "citations = []\n",
    "for index, annotation in enumerate(annotations):\n",
    "    message_content.value = message_content.value.replace(annotation.text, f\"[{index}]\")\n",
    "    if file_citation := getattr(annotation, \"file_citation\", None):\n",
    "        cited_file = client.files.retrieve(file_citation.file_id)\n",
    "        citations.append(f\"[{index}] {cited_file.filename}\")\n",
    "\n",
    "print(message_content.value)\n",
    "print(\"\\n\".join(citations))"
   ]
  },
  {
   "cell_type": "code",
   "execution_count": 18,
   "metadata": {},
   "outputs": [
    {
     "data": {
      "text/plain": [
       "'file-ScLMtcsqDu9cIKjgXGFamkzn'"
      ]
     },
     "execution_count": 18,
     "metadata": {},
     "output_type": "execute_result"
    }
   ],
   "source": [
    "file_id = annotations[0].file_citation.file_id\n",
    "file_id"
   ]
  },
  {
   "cell_type": "code",
   "execution_count": 25,
   "metadata": {},
   "outputs": [
    {
     "data": {
      "text/plain": [
       "[VectorStore(id='vs_yyuICOUvFoJtQHi5WJNJVuJB', bytes=None, created_at=1714950563, file_counts=FileCounts(cancelled=0, completed=1, failed=0, in_progress=0, total=1), last_active_at=1716379937, metadata={}, name='Vector search chapter', object='vector_store', status='completed', expires_after=None, expires_at=None, usage_bytes=44422),\n",
       " VectorStore(id='vs_UMak5cGPgDxONI81J7BQDjgu', bytes=None, created_at=1710407051, file_counts=FileCounts(cancelled=0, completed=0, failed=0, in_progress=0, total=0), last_active_at=1710407051, metadata={}, name=None, object='vector_store', status='completed', expires_after=None, expires_at=None, usage_bytes=0),\n",
       " VectorStore(id='vs_mJis5TOBOV38cU914nc7DqD8', bytes=None, created_at=1709939187, file_counts=FileCounts(cancelled=0, completed=0, failed=0, in_progress=0, total=0), last_active_at=1714927813, metadata={}, name='MATLAB vector store', object='vector_store', status='completed', expires_after=None, expires_at=None, usage_bytes=0)]"
      ]
     },
     "execution_count": 25,
     "metadata": {},
     "output_type": "execute_result"
    }
   ],
   "source": [
    "vector_stores = client.beta.vector_stores.list()\n",
    "vector_stores.data"
   ]
  },
  {
   "cell_type": "code",
   "execution_count": 26,
   "metadata": {},
   "outputs": [
    {
     "data": {
      "text/plain": [
       "VectorStoreFile(id='file-ScLMtcsqDu9cIKjgXGFamkzn', created_at=1714950564, last_error=None, object='vector_store.file', status='completed', vector_store_id='vs_yyuICOUvFoJtQHi5WJNJVuJB', usage_bytes=44422)"
      ]
     },
     "execution_count": 26,
     "metadata": {},
     "output_type": "execute_result"
    }
   ],
   "source": [
    "vector_store_file = client.beta.vector_stores.files.retrieve(\n",
    "  vector_store_id=\"vs_yyuICOUvFoJtQHi5WJNJVuJB\",\n",
    "  file_id=file_id\n",
    ")\n",
    "vector_store_file"
   ]
  },
  {
   "cell_type": "code",
   "execution_count": 27,
   "metadata": {},
   "outputs": [
    {
     "data": {
      "text/plain": [
       "FileObject(id='file-ScLMtcsqDu9cIKjgXGFamkzn', bytes=1057935, created_at=1714950564, filename='Chap 4 - Vector search & Question Answering.pdf', object='file', purpose='assistants', status='processed', status_details=None)"
      ]
     },
     "execution_count": 27,
     "metadata": {},
     "output_type": "execute_result"
    }
   ],
   "source": [
    "cited_file = client.files.retrieve(file_id)\n",
    "cited_file"
   ]
  }
 ],
 "metadata": {
  "kernelspec": {
   "display_name": "env",
   "language": "python",
   "name": "python3"
  },
  "language_info": {
   "codemirror_mode": {
    "name": "ipython",
    "version": 3
   },
   "file_extension": ".py",
   "mimetype": "text/x-python",
   "name": "python",
   "nbconvert_exporter": "python",
   "pygments_lexer": "ipython3",
   "version": "3.10.10"
  }
 },
 "nbformat": 4,
 "nbformat_minor": 2
}
